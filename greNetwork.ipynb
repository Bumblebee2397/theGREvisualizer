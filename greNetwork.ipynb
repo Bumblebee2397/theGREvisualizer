{
 "cells": [
  {
   "cell_type": "markdown",
   "metadata": {
    "slideshow": {
     "slide_type": "slide"
    }
   },
   "source": [
    "\"Welcome! Let us head over to the Visualisation after executing a code cell. The\""
   ]
  },
  {
   "cell_type": "code",
   "execution_count": 4,
   "metadata": {
    "slideshow": {
     "slide_type": "skip"
    }
   },
   "outputs": [
    {
     "ename": "NameError",
     "evalue": "name 'Jupyter' is not defined",
     "output_type": "error",
     "traceback": [
      "\u001b[1;31m---------------------------------------------------------------------------\u001b[0m",
      "\u001b[1;31mNameError\u001b[0m                                 Traceback (most recent call last)",
      "\u001b[1;32m<ipython-input-4-d3a8dfd45f14>\u001b[0m in \u001b[0;36m<module>\u001b[1;34m\u001b[0m\n\u001b[0;32m      1\u001b[0m \u001b[1;33m\u001b[0m\u001b[0m\n\u001b[1;32m----> 2\u001b[1;33m \u001b[0mJupyter\u001b[0m\u001b[1;33m.\u001b[0m\u001b[0mnotebook\u001b[0m\u001b[1;33m.\u001b[0m\u001b[0mexecute_cells\u001b[0m\u001b[1;33m(\u001b[0m\u001b[1;33m[\u001b[0m\u001b[1;36m2\u001b[0m\u001b[1;33m]\u001b[0m\u001b[1;33m)\u001b[0m\u001b[1;33m\u001b[0m\u001b[1;33m\u001b[0m\u001b[0m\n\u001b[0m",
      "\u001b[1;31mNameError\u001b[0m: name 'Jupyter' is not defined"
     ]
    }
   ],
   "source": [
    "\n",
    "%%javascript\n",
    "Jupyter.notebook.execute_cells([2])"
   ]
  },
  {
   "cell_type": "code",
   "execution_count": 3,
   "metadata": {
    "_cell_guid": "79c7e3d0-c299-4dcb-8224-4455121ee9b0",
    "_uuid": "d629ff2d2480ee46fbb7e2d37f6b5fab8052498a",
    "slideshow": {
     "slide_type": "skip"
    }
   },
   "outputs": [
    {
     "ename": "ModuleNotFoundError",
     "evalue": "No module named 'pyvis'",
     "output_type": "error",
     "traceback": [
      "\u001b[1;31m---------------------------------------------------------------------------\u001b[0m",
      "\u001b[1;31mModuleNotFoundError\u001b[0m                       Traceback (most recent call last)",
      "\u001b[1;32m<ipython-input-3-e68ad74dc865>\u001b[0m in \u001b[0;36m<module>\u001b[1;34m\u001b[0m\n\u001b[0;32m      1\u001b[0m \u001b[1;32mimport\u001b[0m \u001b[0mpandas\u001b[0m \u001b[1;32mas\u001b[0m \u001b[0mpd\u001b[0m\u001b[1;33m\u001b[0m\u001b[1;33m\u001b[0m\u001b[0m\n\u001b[0;32m      2\u001b[0m \u001b[1;32mimport\u001b[0m \u001b[0mnetworkx\u001b[0m \u001b[1;32mas\u001b[0m \u001b[0mnx\u001b[0m\u001b[1;33m\u001b[0m\u001b[1;33m\u001b[0m\u001b[0m\n\u001b[1;32m----> 3\u001b[1;33m \u001b[1;32mfrom\u001b[0m \u001b[0mpyvis\u001b[0m\u001b[1;33m.\u001b[0m\u001b[0mnetwork\u001b[0m \u001b[1;32mimport\u001b[0m \u001b[0mNetwork\u001b[0m\u001b[1;33m\u001b[0m\u001b[1;33m\u001b[0m\u001b[0m\n\u001b[0m\u001b[0;32m      4\u001b[0m \u001b[1;32mfrom\u001b[0m \u001b[0mpyvis\u001b[0m \u001b[1;32mimport\u001b[0m \u001b[0mnetwork\u001b[0m \u001b[1;32mas\u001b[0m \u001b[0mnet\u001b[0m\u001b[1;33m\u001b[0m\u001b[1;33m\u001b[0m\u001b[0m\n\u001b[0;32m      5\u001b[0m \u001b[1;32mimport\u001b[0m \u001b[0mnumpy\u001b[0m \u001b[1;32mas\u001b[0m \u001b[0mnp\u001b[0m\u001b[1;33m\u001b[0m\u001b[1;33m\u001b[0m\u001b[0m\n",
      "\u001b[1;31mModuleNotFoundError\u001b[0m: No module named 'pyvis'"
     ]
    }
   ],
   "source": [
    "import pandas as pd\n",
    "import networkx as nx\n",
    "from pyvis.network import Network\n",
    "from pyvis import network as net\n",
    "import numpy as np\n",
    "\n",
    "df1=pd.read_excel('data/GRE Links and Malaprops.xlsx')\n",
    "df1.fillna(0,inplace=True)\n",
    "\n",
    "df2=pd.read_excel('data/GRE Links and Malaprops.xlsx',sheet_name=1,header=None)\n",
    "df2.fillna(0,inplace=True)\n",
    "\n",
    "df2 = df2.drop(index=38,axis=0).reset_index()\n",
    "df2.drop(columns='index',axis=1,inplace=True)\n",
    "\n",
    "gre_net=net.Network(height=\"750px\", width=\"100%\", bgcolor=\"#222222\", font_color=\"white\",notebook=True)\n",
    "gre_net.barnes_hut()\n",
    "\n",
    "for i in df1.values:\n",
    "    gre_net.add_node(i[0],i[0],title=i[0])\n",
    "    for syn in i[1:]:\n",
    "        #print(syn)\n",
    "        if syn==0:\n",
    "            break\n",
    "        gre_net.add_node(syn,syn,title=syn)\n",
    "        gre_net.add_edge(i[0],syn)\n",
    "\n",
    "neighbor_map = gre_net.get_adj_list()\n",
    "\n",
    "for i in range(0,len(df2.values),2):\n",
    "\n",
    "    gre_net.add_node(df2.values[i][0],df2.values[i][0],title=df2.values[i+1][0],color=\"#00ff1e\")\n",
    "    for j in range(1,len(df2.values[i])):\n",
    "        if df2.values[i][j]==0:\n",
    "            break\n",
    "        \n",
    "        gre_net.add_node(df2.values[i][j],df2.values[i][j],title=df2.values[i+1][j],color=\"#00ff1e\")\n",
    "        gre_net.add_edge(df2.values[i][0],df2.values[i][j])\n",
    "        \n"
   ]
  },
  {
   "cell_type": "code",
   "execution_count": null,
   "metadata": {
    "slideshow": {
     "slide_type": "slide"
    }
   },
   "outputs": [],
   "source": [
    "gre_net.show(\"gre.html\")"
   ]
  }
 ],
 "metadata": {
  "celltoolbar": "Slideshow",
  "kernelspec": {
   "display_name": "Python 3",
   "language": "python",
   "name": "python3"
  },
  "language_info": {
   "codemirror_mode": {
    "name": "ipython",
    "version": 3
   },
   "file_extension": ".py",
   "mimetype": "text/x-python",
   "name": "python",
   "nbconvert_exporter": "python",
   "pygments_lexer": "ipython3",
   "version": "3.7.3"
  },
  "livereveal": {
   "autolaunch": true
  },
  "rise": {
   "autolaunch": true
  }
 },
 "nbformat": 4,
 "nbformat_minor": 1
}
