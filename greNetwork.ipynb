{
 "cells": [
  {
   "cell_type": "markdown",
   "metadata": {
    "slideshow": {
     "slide_type": "slide"
    }
   },
   "source": [
    "Use SPACE to change to next slide. <br>\n",
    "Whenever you see code cells press SHIFT+ENTER to execute it and then move to next slide."
   ]
  },
  {
   "cell_type": "markdown",
   "metadata": {
    "slideshow": {
     "slide_type": "slide"
    }
   },
   "source": [
    "Hola!<br>\n",
    "We have all tried keeping those high frequency GRE words in our memory using various hacks, sometimes even rote memorization. <br>\n",
    "This is an attempt to make that problem a bit easy. <br>\n"
   ]
  },
  {
   "cell_type": "markdown",
   "metadata": {
    "slideshow": {
     "slide_type": "slide"
    }
   },
   "source": [
    "There are a total of over 370 common GRE words that have been arranged as networks.<br>\n",
    "We have 2 kinds of networks. <br>\n",
    "The blue colored networks have synonyms. The meaning is represented by the central triangular node while the circles around it are all its synonymns.<br>\n",
    "On the other hand, the green colored networks are commonly confused words. These are represented by squares. If you hover over them, you will see their meanings.<br>"
   ]
  },
  {
   "cell_type": "code",
   "execution_count": null,
   "metadata": {
    "_cell_guid": "79c7e3d0-c299-4dcb-8224-4455121ee9b0",
    "_uuid": "d629ff2d2480ee46fbb7e2d37f6b5fab8052498a",
    "slideshow": {
     "slide_type": "subslide"
    }
   },
   "outputs": [],
   "source": [
    "#Press shift+enter to execute\n",
    "import pandas as pd;import networkx as nx;from pyvis.network import Network;from pyvis import network as net;import numpy as np\n",
    "df1=pd.read_excel('data/GRE Links and Malaprops.xlsx');df1.fillna(0,inplace=True);df2=pd.read_excel('data/GRE Links and Malaprops.xlsx',sheet_name=1,header=None);df2.fillna(0,inplace=True);df2 = df2.drop(index=38,axis=0).reset_index();df2.drop(columns='index',axis=1,inplace=True)\n",
    "gre_net=net.Network(height=\"500px\", width=\"100%\", bgcolor=\"#222222\", font_color=\"white\",notebook=True)\n",
    "for i in df1.values:\n",
    "    if i[0]==0:\n",
    "        continue\n",
    "    gre_net.add_node(i[0],i[0],title=i[0],size=50,shape='triangle')\n",
    "    for syn in i[1:]:\n",
    "        if syn==0:\n",
    "            break\n",
    "        gre_net.add_node(syn,syn,title=syn,shape='dot',size=25);gre_net.add_edge(i[0],syn)\n",
    "neighbor_map = gre_net.get_adj_list()\n",
    "for i in range(0,len(df2.values),2):\n",
    "    gre_net.add_node(df2.values[i][0],df2.values[i][0],title=df2.values[i+1][0],color=\"#00ff1e\")\n",
    "    for j in range(1,len(df2.values[i])):\n",
    "        if df2.values[i][j]==0:\n",
    "            break\n",
    "        gre_net.add_node(df2.values[i][j],df2.values[i][j],title=df2.values[i+1][j],color=\"#00ff1e\",shape='diamond',size=50);gre_net.add_edge(df2.values[i][0],df2.values[i][j])\n",
    "print(\"Done! Press SPACE to go ahead.\")"
   ]
  },
  {
   "cell_type": "markdown",
   "metadata": {
    "slideshow": {
     "slide_type": "slide"
    }
   },
   "source": [
    "The visualisation will come up after executing the next cell. \n",
    "You can play around by moving the networks."
   ]
  },
  {
   "cell_type": "code",
   "execution_count": null,
   "metadata": {
    "slideshow": {
     "slide_type": "slide"
    }
   },
   "outputs": [],
   "source": [
    "# Press shift+enter to see your network!\n",
    "gre_net.show(\"gre.html\")"
   ]
  }
 ],
 "metadata": {
  "celltoolbar": "Slideshow",
  "kernelspec": {
   "display_name": "Python 3",
   "language": "python",
   "name": "python3"
  },
  "language_info": {
   "codemirror_mode": {
    "name": "ipython",
    "version": 3
   },
   "file_extension": ".py",
   "mimetype": "text/x-python",
   "name": "python",
   "nbconvert_exporter": "python",
   "pygments_lexer": "ipython3",
   "version": "3.7.3"
  },
  "livereveal": {
   "autolaunch": true
  }
 },
 "nbformat": 4,
 "nbformat_minor": 1
}
