{
 "cells": [
  {
   "cell_type": "markdown",
   "metadata": {
    "slideshow": {
     "slide_type": "slide"
    }
   },
   "source": [
    "\"Welcome! Let us head over to the Visualisation by executing a couple of code cells. Press SPACE to change slides\""
   ]
  },
  {
   "cell_type": "code",
   "execution_count": null,
   "metadata": {
    "_cell_guid": "79c7e3d0-c299-4dcb-8224-4455121ee9b0",
    "_uuid": "d629ff2d2480ee46fbb7e2d37f6b5fab8052498a",
    "slideshow": {
     "slide_type": "subslide"
    }
   },
   "outputs": [],
   "source": [
    "#Press shift+enter to execute\n",
    "\n",
    "\n",
    "import pandas as pd\n",
    "import networkx as nx\n",
    "from pyvis.network import Network\n",
    "from pyvis import network as net\n",
    "import numpy as np\n",
    "\n",
    "df1=pd.read_excel('data/GRE Links and Malaprops.xlsx')\n",
    "df1.fillna(0,inplace=True)\n",
    "\n",
    "df2=pd.read_excel('data/GRE Links and Malaprops.xlsx',sheet_name=1,header=None)\n",
    "df2.fillna(0,inplace=True)\n",
    "\n",
    "df2 = df2.drop(index=38,axis=0).reset_index()\n",
    "df2.drop(columns='index',axis=1,inplace=True)\n",
    "\n",
    "gre_net=net.Network(height=\"750px\", width=\"100%\", bgcolor=\"#222222\", font_color=\"white\",notebook=True)\n",
    "gre_net.barnes_hut()\n",
    "\n",
    "for i in df1.values:\n",
    "    gre_net.add_node(i[0],i[0],title=i[0])\n",
    "    for syn in i[1:]:\n",
    "        #print(syn)\n",
    "        if syn==0:\n",
    "            break\n",
    "        gre_net.add_node(syn,syn,title=syn)\n",
    "        gre_net.add_edge(i[0],syn)\n",
    "\n",
    "neighbor_map = gre_net.get_adj_list()\n",
    "\n",
    "for i in range(0,len(df2.values),2):\n",
    "\n",
    "    gre_net.add_node(df2.values[i][0],df2.values[i][0],title=df2.values[i+1][0],color=\"#00ff1e\")\n",
    "    for j in range(1,len(df2.values[i])):\n",
    "        if df2.values[i][j]==0:\n",
    "            break\n",
    "        \n",
    "        gre_net.add_node(df2.values[i][j],df2.values[i][j],title=df2.values[i+1][j],color=\"#00ff1e\")\n",
    "        gre_net.add_edge(df2.values[i][0],df2.values[i][j])\n",
    "        \n"
   ]
  },
  {
   "cell_type": "markdown",
   "metadata": {
    "slideshow": {
     "slide_type": "slide"
    }
   },
   "source": [
    "The visualisation will come up after executing the next cell. \n",
    "There are 2 colored networks.\n",
    "Blue ones have the meaning at center and all the attached nodes are synonyms.\n",
    "Green ones are ones that sound similar and are often confused.\n",
    "Hover over the nodes to see the words/meanings."
   ]
  },
  {
   "cell_type": "code",
   "execution_count": null,
   "metadata": {
    "slideshow": {
     "slide_type": "slide"
    }
   },
   "outputs": [],
   "source": [
    "# Press shift+enter to see your network!\n",
    "gre_net.show(\"gre.html\")"
   ]
  },
  {
   "cell_type": "code",
   "execution_count": null,
   "metadata": {},
   "outputs": [],
   "source": []
  }
 ],
 "metadata": {
  "celltoolbar": "Slideshow",
  "kernelspec": {
   "display_name": "Python 3",
   "language": "python",
   "name": "python3"
  },
  "language_info": {
   "codemirror_mode": {
    "name": "ipython",
    "version": 3
   },
   "file_extension": ".py",
   "mimetype": "text/x-python",
   "name": "python",
   "nbconvert_exporter": "python",
   "pygments_lexer": "ipython3",
   "version": "3.7.3"
  },
  "livereveal": {
   "autolaunch": true
  }
 },
 "nbformat": 4,
 "nbformat_minor": 1
}
